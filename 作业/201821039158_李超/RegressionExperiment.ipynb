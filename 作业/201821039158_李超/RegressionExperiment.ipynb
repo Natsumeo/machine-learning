{
 "cells": [
  {
   "cell_type": "code",
   "execution_count": 5,
   "metadata": {},
   "outputs": [
    {
     "name": "stdout",
     "output_type": "stream",
     "text": [
      "[[149813.17]]\n",
      "[[3895.96022548]]\n",
      "[[1730.45598442]]\n"
     ]
    },
    {
     "data": {
      "image/png": "[encoded data removed]",
      "text/plain": [
       "<Figure size 432x288 with 1 Axes>"
      ]
     },
     "metadata": {
      "needs_background": "light"
     },
     "output_type": "display_data"
    }
   ],
   "source": [
    "import numpy as np\n",
    "import matplotlib.pyplot as plt\n",
    "import random\n",
    "from sklearn.datasets import load_svmlight_file\n",
    "from sklearn.model_selection import train_test_split\n",
    "\n",
    "# 定义损失函数\n",
    "def function_loss(w, X, y):\n",
    "    loss = 0.5 * (y.T.dot(y) - 2 * w.T.dot(X.T).dot(y) + w.T.dot(X.T).dot(X).dot(w))\n",
    "    return loss\n",
    "\n",
    "# 定义闭式解\n",
    "def close_form_solution(w, X_train, y_train, X_val, y_val):\n",
    "    new_w = (X_train.T.dot(X_train)).I.dot(X_train.T).dot(y_train)\n",
    "    new_w = new_w.reshape(w.shape[0], 1)  # 更新参数w\n",
    "    loss_train = function_loss(new_w, X_train, y_train)\n",
    "    loss_val = function_loss(new_w, X_val, y_val)\n",
    "    print(loss_train)  # 输出训练集的损失值\n",
    "    print(loss_val)  # 输出测试集的损失值\n",
    "\n",
    "# 随机梯度下降\n",
    "def SGD(w, X, y):\n",
    "    dw = np.dot(X.T, (X.dot(w) - y))\n",
    "    return dw\n",
    "\n",
    "# 线性回归\n",
    "def linear_regression(w, X_train, y_train, X_val, y_val):\n",
    "    iterations = 100  # 迭代次数\n",
    "    alpha = 0.01  # 学习率\n",
    "    loss_train_his = []\n",
    "    loss_val_his = []\n",
    "    for i in range(iterations):\n",
    "        index = random.randint(0, X_train.shape[0] -1)\n",
    "        X0 = X_train[index]\n",
    "        y0 = y_train[index]\n",
    "        loss_train = function_loss(w, X_train, y_train)\n",
    "        loss_val = function_loss(w, X_val, y_val)\n",
    "        loss_train_his.append(loss_train[0, 0])\n",
    "        loss_val_his.append(loss_val[0, 0])\n",
    "        w = w - alpha * SGD(w, X0, y0)\n",
    "\n",
    "    plot(iterations, loss_train_his, loss_val_his)\n",
    "\n",
    "# 画出损失函数的图像\n",
    "def plot(iterations,loss_train, loss_val):\n",
    "    plt.plot(np.arange(iterations), loss_train, label='Train_loss')\n",
    "    plt.plot(np.arange(iterations), loss_val, label='Validation_loss')\n",
    "    plt.xlabel('Iteration')\n",
    "    plt.ylabel('Loss')\n",
    "    plt.title('The loss chart of Linear Regression')\n",
    "    plt.legend(loc='best')\n",
    "    plt.show()\n",
    "\n",
    "if __name__ == '__main__':\n",
    "    # 读取实验数据\n",
    "    X, y = load_svmlight_file(\"G:\\datasets\\housing_scale.txt\")\n",
    "    X = X.todense()\n",
    "    # 添加w0对应的x0方便矩阵化计算\n",
    "    X = np.column_stack((X, np.ones(X.shape[0])))\n",
    "    y = y.reshape((y.size, 1))\n",
    "\n",
    "    # 数据集划分训练集和验证集\n",
    "    X_train, X_val, y_train, y_val = train_test_split(X, y, test_size=.33, random_state=42)\n",
    "\n",
    "    # 线性模型参数全0初始化\n",
    "    w = np.zeros(X.shape[1])\n",
    "    w = w.reshape(w.shape[0], 1)\n",
    "\n",
    "    loss = function_loss(w, X, y)\n",
    "    \n",
    "    #输出损失函数\n",
    "    print(loss)\n",
    "\n",
    "    close_form_solution(w, X_train, y_train, X_val, y_val)\n",
    "\n",
    "    linear_regression(w, X_train, y_train, X_val, y_val)\n"
   ]
  },
  {
   "cell_type": "code",
   "execution_count": null,
   "metadata": {},
   "outputs": [],
   "source": []
  }
 ],
 "metadata": {
  "celltoolbar": "Raw Cell Format",
  "kernelspec": {
   "display_name": "Python 3",
   "language": "python",
   "name": "python3"
  },
  "language_info": {
   "codemirror_mode": {
    "name": "ipython",
    "version": 3
   },
   "file_extension": ".py",
   "mimetype": "text/x-python",
   "name": "python",
   "nbconvert_exporter": "python",
   "pygments_lexer": "ipython3",
   "version": "3.7.0"
  }
 },
 "nbformat": 4,
 "nbformat_minor": 2
}
